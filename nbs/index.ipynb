{
 "cells": [
  {
   "cell_type": "code",
   "execution_count": null,
   "metadata": {},
   "outputs": [],
   "source": [
    "#| hide\n",
    "from traffic_infra.core import *"
   ]
  },
  {
   "cell_type": "markdown",
   "metadata": {},
   "source": [
    "# traffic-infra\n",
    "\n",
    "> Infrastructure for traffic and mobility."
   ]
  },
  {
   "cell_type": "markdown",
   "metadata": {},
   "source": [
    "# Servers"
   ]
  },
  {
   "cell_type": "markdown",
   "metadata": {},
   "source": [
    "## Node 1. poorna-pragna-layout\n",
    "\n",
    "- Cloud: [E2E Networks](https://www.e2enetworks.com/)\n",
    "- Node Plan: `E1LC-2.6GB`\n",
    "- Configuration: `2 vCPU`, `6 GB RAM`, `150 GB Root Volume`\n",
    "- OS: `Ubuntu 24.04 x86_64`\n",
    "- Plan: `₹450.32 per 30 days`\n",
    "- Created On: `2025-10-04 11:14:12`"
   ]
  },
  {
   "cell_type": "code",
   "execution_count": null,
   "metadata": {},
   "outputs": [],
   "source": []
  }
 ],
 "metadata": {
  "kernelspec": {
   "display_name": "python3",
   "language": "python",
   "name": "python3"
  }
 },
 "nbformat": 4,
 "nbformat_minor": 4
}
