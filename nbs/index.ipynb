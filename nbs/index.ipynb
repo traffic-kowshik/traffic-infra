{
 "cells": [
  {
   "cell_type": "code",
   "execution_count": null,
   "metadata": {},
   "outputs": [],
   "source": [
    "#| hide\n",
    "from traffic_infra.core import *"
   ]
  },
  {
   "cell_type": "markdown",
   "metadata": {},
   "source": [
    "# traffic-infra\n",
    "\n",
    "> Infrastructure for traffic and mobility."
   ]
  },
  {
   "cell_type": "markdown",
   "metadata": {},
   "source": [
    "## [E2E Networks](https://www.e2enetworks.com/)"
   ]
  },
  {
   "cell_type": "markdown",
   "metadata": {},
   "source": [
    "### Server 1. poorna-pragna-layout\n",
    "- Node Plan: `E1LC-2.6GB`\n",
    "- Configuration: `2 vCPU`, `6 GB RAM`, `150 GB Root Volume`\n",
    "- OS: `Ubuntu 24.04 x86_64`\n",
    "- Plan: `₹450.32 per 30 days`\n",
    "- Created On: `2025-10-04 11:14:12`\n",
    "- Reference: [Docs](https://docs.e2enetworks.com/docs/myaccount/node/virt_comp_node/getting_started/)\n",
    "\n",
    "**Reserved Public IP**\n",
    "\n",
    "- Public IP address: `1x`\n",
    "- Plan: `₹199.0 per month`\n",
    "- Reference: [Docs](https://docs.e2enetworks.com/docs/myaccount/network/reserve_ip/)"
   ]
  },
  {
   "cell_type": "code",
   "execution_count": null,
   "metadata": {},
   "outputs": [],
   "source": []
  },
  {
   "cell_type": "markdown",
   "metadata": {},
   "source": [
    "## Grafana\n",
    "\n",
    "- URL: [https://traffickowshik.grafana.net/](https://traffickowshik.grafana.net/)\n",
    "- Plan: `Free`"
   ]
  },
  {
   "cell_type": "code",
   "execution_count": null,
   "metadata": {},
   "outputs": [],
   "source": []
  }
 ],
 "metadata": {
  "kernelspec": {
   "display_name": "python3",
   "language": "python",
   "name": "python3"
  }
 },
 "nbformat": 4,
 "nbformat_minor": 4
}
